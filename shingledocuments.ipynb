{
 "cells": [
  {
   "cell_type": "code",
   "execution_count": 2,
   "metadata": {},
   "outputs": [
    {
     "name": "stdout",
     "output_type": "stream",
     "text": [
      "HO\n"
     ]
    }
   ],
   "source": [
    "#Function return the k-shingles of all documents\n",
    "def shingleDocuments(corpus_path):\n",
    "    no_of_docs=0\n",
    "    ds=[] #List to store k-shingles of all documents\n",
    "\n",
    "    print(corpus_path)\n",
    "\n",
    "    for root, dirs, files in os.walk(corpus_path,topdown=False):\n",
    "        for filename in files:\n",
    "            no_of_docs+=1\n",
    "            path=os.path.join(root, filename)\n",
    "            k_shingles=K_Shingles(path,4)\n",
    "            ds.append(k_shingles)\n",
    "            #print(path)\n",
    "    return ds\n"
   ]
  },
  {
   "cell_type": "code",
   "execution_count": null,
   "metadata": {},
   "outputs": [],
   "source": []
  }
 ],
 "metadata": {
  "kernelspec": {
   "display_name": "Python 3",
   "language": "python",
   "name": "python3"
  },
  "language_info": {
   "codemirror_mode": {
    "name": "ipython",
    "version": 3
   },
   "file_extension": ".py",
   "mimetype": "text/x-python",
   "name": "python",
   "nbconvert_exporter": "python",
   "pygments_lexer": "ipython3",
   "version": "3.7.3"
  }
 },
 "nbformat": 4,
 "nbformat_minor": 2
}
