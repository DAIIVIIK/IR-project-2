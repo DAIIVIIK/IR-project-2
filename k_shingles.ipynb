{
 "cells": [
  {
   "cell_type": "code",
   "execution_count": 1,
   "metadata": {},
   "outputs": [],
   "source": [
    "def K_Shingles(filename,k):\n",
    "    words=[]\n",
    "    shingles=[]\n",
    "   \n",
    "    #File reading\n",
    "    with open(filename,encoding='utf8',errors='ignore') as f:\n",
    "       for line in f:\n",
    "           line = line.translate(str.maketrans('', '', string.punctuation))\n",
    "           for word in line.split(' '):\n",
    "               words.append(word.lower())\n",
    "    for i in range(k-1,len(words)):\n",
    "        shingles.append(tuple(words[i-(k-1):i+1]))\n",
    "    return set(shingles)  "
   ]
  },
  {
   "cell_type": "code",
   "execution_count": null,
   "metadata": {},
   "outputs": [],
   "source": []
  }
 ],
 "metadata": {
  "kernelspec": {
   "display_name": "Python 3",
   "language": "python",
   "name": "python3"
  },
  "language_info": {
   "codemirror_mode": {
    "name": "ipython",
    "version": 3
   },
   "file_extension": ".py",
   "mimetype": "text/x-python",
   "name": "python",
   "nbconvert_exporter": "python",
   "pygments_lexer": "ipython3",
   "version": "3.7.3"
  }
 },
 "nbformat": 4,
 "nbformat_minor": 2
}
