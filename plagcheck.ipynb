{
 "cells": [
  {
   "cell_type": "code",
   "execution_count": 1,
   "metadata": {},
   "outputs": [],
   "source": [
    "#Function checks for similar documents from the candidate pairs\n",
    "def plagarismChecker(corpus_path,measure='jaccard'):\n",
    "    print(\"Checking candidate pairs\")\n",
    "    shingle_doc_matrix, candidate_matrix = findCandidatePairs(corpus_path,measure)\n",
    "   \n",
    "    filename=[]\n",
    "   \n",
    "    for root, dirs, files in os.walk(corpus_path,topdown=False):\n",
    "        for fn in files:\n",
    "            filename.append(fn)\n",
    "           \n",
    "    similarity=[]\n",
    "   \n",
    "    for i in range(0,len(candidate_matrix)):\n",
    "        for j in range(i+1,len(candidate_matrix)):\n",
    "            if(candidate_matrix[i][j]==1):\n",
    "                if(measure=='cosine'):\n",
    "                    cos=0\n",
    "                    for x in range(0,len(shingle_doc_matrix)):\n",
    "                        if(shingle_doc_matrix[x][i]==1 and shingle_doc_matrix[x][j]==1):\n",
    "                            cos+=1\n",
    "                    cos=cos/len(shingle_doc_matrix)\n",
    "                    similarity.append(tuple([filename[i],filename[j],cos]))\n",
    "   \n",
    "                elif(measure=='jaccard'):\n",
    "                    ones_i=0\n",
    "                    ones_j=0\n",
    "                    zeroes_i=0\n",
    "                    zeroes_j=0\n",
    "                    for x in range(0,len(shingle_doc_matrix)):\n",
    "                        if(shingle_doc_matrix[x][i]==1):\n",
    "                            ones_i+=1\n",
    "                        else:\n",
    "                            zeroes_i+=1\n",
    "                        if(shingle_doc_matrix[x][j]==1):\n",
    "                            ones_j+=1\n",
    "                        else:\n",
    "                            zeroes_j+=1\n",
    "                    jaccard=(min(ones_i,ones_j)+min(zeroes_i,zeroes_j))/(2*(ones_i+zeroes_i))\n",
    "                    similarity.append(tuple([filename[i],filename[j],jaccard]))\n",
    "                   \n",
    "                elif(measure=='hamming'):\n",
    "                    hamming=0\n",
    "                    for x in range(0,len(shingle_doc_matrix)):\n",
    "                        if(shingle_doc_matrix[x][i]!=shingle_doc_matrix[x][j]):\n",
    "                            hamming+=1\n",
    "                    similarity.append(tuple([filename[i],filename[j],hamming]))\n",
    "    return similarity\n"
   ]
  },
  {
   "cell_type": "code",
   "execution_count": null,
   "metadata": {},
   "outputs": [],
   "source": []
  }
 ],
 "metadata": {
  "kernelspec": {
   "display_name": "Python 3",
   "language": "python",
   "name": "python3"
  },
  "language_info": {
   "codemirror_mode": {
    "name": "ipython",
    "version": 3
   },
   "file_extension": ".py",
   "mimetype": "text/x-python",
   "name": "python",
   "nbconvert_exporter": "python",
   "pygments_lexer": "ipython3",
   "version": "3.7.3"
  }
 },
 "nbformat": 4,
 "nbformat_minor": 2
}
