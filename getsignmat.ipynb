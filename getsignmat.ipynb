{
 "cells": [
  {
   "cell_type": "code",
   "execution_count": 1,
   "metadata": {},
   "outputs": [],
   "source": [
    "#Function generates the signature matrix        \n",
    "def getSignatureMatrix(corpus_path):\n",
    "    doc_shingles=shingleDocuments(corpus_path)\n",
    "    all_shingles=set()\n",
    "    for shingles in doc_shingles:\n",
    "        all_shingles=all_shingles.union(shingles)\n",
    "    print(len(all_shingles))\n",
    "    all_shingles=list(all_shingles)\n",
    "\n",
    "    #Term-Incidence matrix\n",
    "    shingle_doc_matrix=[]\n",
    "   \n",
    "    #Generating the shingle-document matrix\n",
    "    for i in range(0,len(all_shingles)):\n",
    "        lis=[]\n",
    "        for j in range(0,len(doc_shingles)):\n",
    "            if all_shingles[i] in doc_shingles[j]:\n",
    "                lis.append(1)\n",
    "            else:\n",
    "                lis.append(0)\n",
    "        shingle_doc_matrix.append(lis)\n",
    "       \n",
    "   \n",
    "    p_list=[x for x in range(0,len(all_shingles))]\n",
    "   \n",
    "    permutations=[] #List to store the permutations(hash functions)\n",
    "   \n",
    "    no_of_hash_functions=100\n",
    "   \n",
    "    for i in range(0,no_of_hash_functions):\n",
    "        permutations.append(list(np.random.permutation(p_list)))\n",
    "       \n",
    "\n",
    "    signature_matrix=[] #Stores the signature matrix\n",
    "   \n",
    "    for i in range(0,no_of_hash_functions):\n",
    "        lis=[]\n",
    "        for j in range(0,len(doc_shingles)):\n",
    "            lis.append(len(all_shingles)+1)\n",
    "        signature_matrix.append(lis)\n",
    "   \n",
    "    #Generating the signature matrix\n",
    "    for j in range(0,len(doc_shingles)):\n",
    "        for i in range(0,len(all_shingles)):\n",
    "            if(shingle_doc_matrix[i][j]==1):\n",
    "                for k in range(0,no_of_hash_functions):\n",
    "                    signature_matrix[k][j]=min(signature_matrix[k][j],permutations[k][i])\n",
    "   \n",
    "    return shingle_doc_matrix, signature_matrix\n",
    "   \n"
   ]
  },
  {
   "cell_type": "code",
   "execution_count": null,
   "metadata": {},
   "outputs": [],
   "source": []
  }
 ],
 "metadata": {
  "kernelspec": {
   "display_name": "Python 3",
   "language": "python",
   "name": "python3"
  },
  "language_info": {
   "codemirror_mode": {
    "name": "ipython",
    "version": 3
   },
   "file_extension": ".py",
   "mimetype": "text/x-python",
   "name": "python",
   "nbconvert_exporter": "python",
   "pygments_lexer": "ipython3",
   "version": "3.7.3"
  }
 },
 "nbformat": 4,
 "nbformat_minor": 2
}
